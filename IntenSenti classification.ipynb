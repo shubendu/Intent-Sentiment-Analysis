{
 "cells": [
  {
   "cell_type": "markdown",
   "id": "efdc74c3",
   "metadata": {},
   "source": [
    "<p style=\"font-size:32px;text-align:center\"> <b>Intent Classification and Sentiment Analysis </b> </p>"
   ]
  },
  {
   "cell_type": "markdown",
   "id": "2ef7c1ce",
   "metadata": {},
   "source": [
    "### Problem statement:\n",
    "Given a sentence, we have to predict the intent of that sentence and its sentiment."
   ]
  },
  {
   "cell_type": "markdown",
   "id": "43fbf734",
   "metadata": {},
   "source": [
    "### Data Overview\n",
    "Data Taken from  https://github.com/clinc/oos-eval\n"
   ]
  },
  {
   "cell_type": "markdown",
   "id": "301ece69",
   "metadata": {},
   "source": [
    "### Business objectives and constraints:  \n",
    "- low-latency requirement\n",
    "- Probability of prediction is useful to recommend highest probability class of intents and sentiments"
   ]
  },
  {
   "cell_type": "markdown",
   "id": "1bc87057",
   "metadata": {},
   "source": [
    "# 1. Importing Libraries"
   ]
  },
  {
   "cell_type": "code",
   "execution_count": 5,
   "id": "5d0068e2",
   "metadata": {},
   "outputs": [
    {
     "name": "stdout",
     "output_type": "stream",
     "text": [
      "2021-08-31 16:37:32,876 loading file C:\\Users\\snake\\.flair\\models\\sentiment-en-mix-distillbert_4.pt\n"
     ]
    }
   ],
   "source": [
    "import numpy as np\n",
    "import json\n",
    "import pickle\n",
    "import pandas as pd\n",
    "from tensorflow.python.keras.models import load_model\n",
    "import pickle\n",
    "import seaborn as sns\n",
    "import json\n",
    "import matplotlib.pyplot as plt\n",
    "%matplotlib inline\n",
    "from tensorflow.keras.models import Sequential\n",
    "from tensorflow.keras.layers import Dense, Input, Dropout, LSTM, Activation, Bidirectional,Embedding\n",
    "from sklearn.preprocessing import OneHotEncoder,LabelEncoder\n",
    "from sklearn.model_selection import train_test_split\n",
    "from tensorflow.keras.preprocessing.text import Tokenizer\n",
    "from tensorflow.keras.preprocessing.sequence import pad_sequences\n",
    "pd.options.display.float_format = '{:.2f}'.format\n",
    "np.set_printoptions(suppress=True)\n",
    "import flair\n",
    "flair_sentiment = flair.models.TextClassifier.load('en-sentiment')"
   ]
  },
  {
   "cell_type": "markdown",
   "id": "6898abf1",
   "metadata": {},
   "source": [
    "# 2. Loading Dataset\n",
    "\n",
    "\n",
    "\n",
    "* JSON structure:\n",
    "\n",
    "    {\n",
    "        \"train\": List of training samples with each sample representing a tuple: (query,class)\n",
    "                [\n",
    "                     [\"query / sentence\",\"intent_class\"],\n",
    "                     [\"query / sentence\",\"intent_class\"],\n",
    "                ],\n",
    "        \"val\":  List of validation samples with each sample representing a tuple: (query,class)\n",
    "                [\n",
    "                     [\"query / sentence\",\"intent_class\"],\n",
    "                     [\"query / sentence\",\"intent_class\"],\n",
    "                ],\n",
    "         \"test\":  List of testing samples with each sample representing a tuple: (query,class)\n",
    "                [\n",
    "                     [\"query / sentence\",\"intent_class\"],\n",
    "                     [\"query / sentence\",\"intent_class\"],\n",
    "                ],\n",
    "          ...further similar 3 sets for out-of-scope queries for advance classification.\n",
    "    }"
   ]
  },
  {
   "cell_type": "code",
   "execution_count": 2,
   "id": "7346e082",
   "metadata": {},
   "outputs": [],
   "source": [
    "# Loading json data\n",
    "with open('data_full.json') as file:\n",
    "    data = json.loads(file.read())\n",
    "\n",
    "# Loading out-of-scope intent data\n",
    "val_oos = np.array(data['oos_val'])\n",
    "train_oos = np.array(data['oos_train'])\n",
    "test_oos = np.array(data['oos_test'])\n",
    "\n",
    "# Loading other intents data\n",
    "val_others = np.array(data['val'])\n",
    "train_others = np.array(data['train'])\n",
    "test_others = np.array(data['test'])\n",
    "\n",
    "# Merging out-of-scope and other intent data\n",
    "val = np.concatenate([val_oos,val_others])\n",
    "train = np.concatenate([train_oos,train_others])\n",
    "test = np.concatenate([test_oos,test_others])"
   ]
  },
  {
   "cell_type": "code",
   "execution_count": 3,
   "id": "c322cef4",
   "metadata": {},
   "outputs": [
    {
     "data": {
      "text/plain": [
       "array([['set a warning for when my bank account starts running low',\n",
       "        'oos'],\n",
       "       ['a show on broadway', 'oos'],\n",
       "       ['who has the best record in the nfl', 'oos'],\n",
       "       ...,\n",
       "       [\"do you know why my card was declined at target i can't figure out why\",\n",
       "        'card_declined'],\n",
       "       [\"i can't figure out why my card was declined at target\",\n",
       "        'card_declined'],\n",
       "       [\"i was just at target and they declined my card and i can't understand why\",\n",
       "        'card_declined']], dtype='<U114')"
      ]
     },
     "execution_count": 3,
     "metadata": {},
     "output_type": "execute_result"
    }
   ],
   "source": [
    "val"
   ]
  },
  {
   "cell_type": "code",
   "execution_count": 4,
   "id": "0e6abdce",
   "metadata": {},
   "outputs": [
    {
     "data": {
      "text/plain": [
       "array([['how much is an overdraft fee for bank', 'oos'],\n",
       "       ['why are exponents preformed before multiplication in the order of operations',\n",
       "        'oos'],\n",
       "       ['what size wipers does this car take', 'oos'],\n",
       "       ...,\n",
       "       ['how come my card was not accepted yesterday', 'card_declined'],\n",
       "       ['find out what happened to make my card get declined yesterday',\n",
       "        'card_declined'],\n",
       "       ['why was my card declined at safeway', 'card_declined']],\n",
       "      dtype='<U136')"
      ]
     },
     "execution_count": 4,
     "metadata": {},
     "output_type": "execute_result"
    }
   ],
   "source": [
    "train"
   ]
  },
  {
   "cell_type": "code",
   "execution_count": 5,
   "id": "c960caae",
   "metadata": {},
   "outputs": [
    {
     "data": {
      "text/plain": [
       "array([['how much has the dow changed today', 'oos'],\n",
       "       ['how many prime numbers are there between 0 and 100', 'oos'],\n",
       "       ['can you tell me how to solve simple algebraic equations with one variable',\n",
       "        'oos'],\n",
       "       ...,\n",
       "       ['why did i get rejected on my card', 'card_declined'],\n",
       "       [\"how come my credit card isn't working\", 'card_declined'],\n",
       "       [\"why didn't my card work\", 'card_declined']], dtype='<U125')"
      ]
     },
     "execution_count": 5,
     "metadata": {},
     "output_type": "execute_result"
    }
   ],
   "source": [
    "test"
   ]
  },
  {
   "cell_type": "code",
   "execution_count": 6,
   "id": "9a1d8a38",
   "metadata": {},
   "outputs": [
    {
     "name": "stdout",
     "output_type": "stream",
     "text": [
      "Train size: 30200\n",
      "Test size: 11000\n",
      "validation size: 6200\n"
     ]
    }
   ],
   "source": [
    "print(\"Train size:\",train.size)\n",
    "print(\"Test size:\",test.size)\n",
    "print(\"validation size:\",val.size)"
   ]
  },
  {
   "cell_type": "code",
   "execution_count": 7,
   "id": "336e6a8a",
   "metadata": {},
   "outputs": [
    {
     "data": {
      "text/plain": [
       "array([['how much is an overdraft fee for bank',\n",
       "        'why are exponents preformed before multiplication in the order of operations',\n",
       "        'what size wipers does this car take', ...,\n",
       "        \"do you know why my card was declined at target i can't figure out why\",\n",
       "        \"i can't figure out why my card was declined at target\",\n",
       "        \"i was just at target and they declined my card and i can't understand why\"],\n",
       "       ['oos', 'oos', 'oos', ..., 'card_declined', 'card_declined',\n",
       "        'card_declined']], dtype='<U136')"
      ]
     },
     "execution_count": 7,
     "metadata": {},
     "output_type": "execute_result"
    }
   ],
   "source": [
    "data = np.concatenate([train,test,val])\n",
    "data = data.T\n",
    "data"
   ]
  },
  {
   "cell_type": "code",
   "execution_count": 8,
   "id": "0b743345",
   "metadata": {},
   "outputs": [
    {
     "data": {
      "text/plain": [
       "47400"
      ]
     },
     "execution_count": 8,
     "metadata": {},
     "output_type": "execute_result"
    }
   ],
   "source": [
    "data.size"
   ]
  },
  {
   "cell_type": "code",
   "execution_count": 9,
   "id": "c32de5c5",
   "metadata": {},
   "outputs": [],
   "source": [
    "text = data[0]\n",
    "labels = data[1]"
   ]
  },
  {
   "cell_type": "code",
   "execution_count": 10,
   "id": "c4ed087b",
   "metadata": {},
   "outputs": [
    {
     "data": {
      "text/plain": [
       "array(['how much is an overdraft fee for bank',\n",
       "       'why are exponents preformed before multiplication in the order of operations',\n",
       "       'what size wipers does this car take', ...,\n",
       "       \"do you know why my card was declined at target i can't figure out why\",\n",
       "       \"i can't figure out why my card was declined at target\",\n",
       "       \"i was just at target and they declined my card and i can't understand why\"],\n",
       "      dtype='<U136')"
      ]
     },
     "execution_count": 10,
     "metadata": {},
     "output_type": "execute_result"
    }
   ],
   "source": [
    "text"
   ]
  },
  {
   "cell_type": "code",
   "execution_count": 11,
   "id": "f40e4d25",
   "metadata": {},
   "outputs": [
    {
     "data": {
      "text/plain": [
       "array(['oos', 'oos', 'oos', ..., 'card_declined', 'card_declined',\n",
       "       'card_declined'], dtype='<U136')"
      ]
     },
     "execution_count": 11,
     "metadata": {},
     "output_type": "execute_result"
    }
   ],
   "source": [
    "labels"
   ]
  },
  {
   "cell_type": "code",
   "execution_count": 12,
   "id": "810bd43f",
   "metadata": {},
   "outputs": [],
   "source": [
    "from sklearn.utils import shuffle\n",
    "text,labels = shuffle(text,labels)"
   ]
  },
  {
   "cell_type": "code",
   "execution_count": 13,
   "id": "098ec0e7",
   "metadata": {},
   "outputs": [
    {
     "data": {
      "text/html": [
       "<div>\n",
       "<style scoped>\n",
       "    .dataframe tbody tr th:only-of-type {\n",
       "        vertical-align: middle;\n",
       "    }\n",
       "\n",
       "    .dataframe tbody tr th {\n",
       "        vertical-align: top;\n",
       "    }\n",
       "\n",
       "    .dataframe thead th {\n",
       "        text-align: right;\n",
       "    }\n",
       "</style>\n",
       "<table border=\"1\" class=\"dataframe\">\n",
       "  <thead>\n",
       "    <tr style=\"text-align: right;\">\n",
       "      <th></th>\n",
       "      <th>0</th>\n",
       "    </tr>\n",
       "  </thead>\n",
       "  <tbody>\n",
       "    <tr>\n",
       "      <th>0</th>\n",
       "      <td>international_visa</td>\n",
       "    </tr>\n",
       "    <tr>\n",
       "      <th>1</th>\n",
       "      <td>make_call</td>\n",
       "    </tr>\n",
       "    <tr>\n",
       "      <th>2</th>\n",
       "      <td>how_busy</td>\n",
       "    </tr>\n",
       "    <tr>\n",
       "      <th>3</th>\n",
       "      <td>oos</td>\n",
       "    </tr>\n",
       "    <tr>\n",
       "      <th>4</th>\n",
       "      <td>change_volume</td>\n",
       "    </tr>\n",
       "    <tr>\n",
       "      <th>...</th>\n",
       "      <td>...</td>\n",
       "    </tr>\n",
       "    <tr>\n",
       "      <th>23695</th>\n",
       "      <td>taxes</td>\n",
       "    </tr>\n",
       "    <tr>\n",
       "      <th>23696</th>\n",
       "      <td>routing</td>\n",
       "    </tr>\n",
       "    <tr>\n",
       "      <th>23697</th>\n",
       "      <td>travel_alert</td>\n",
       "    </tr>\n",
       "    <tr>\n",
       "      <th>23698</th>\n",
       "      <td>definition</td>\n",
       "    </tr>\n",
       "    <tr>\n",
       "      <th>23699</th>\n",
       "      <td>gas</td>\n",
       "    </tr>\n",
       "  </tbody>\n",
       "</table>\n",
       "<p>23700 rows × 1 columns</p>\n",
       "</div>"
      ],
      "text/plain": [
       "                        0\n",
       "0      international_visa\n",
       "1               make_call\n",
       "2                how_busy\n",
       "3                     oos\n",
       "4           change_volume\n",
       "...                   ...\n",
       "23695               taxes\n",
       "23696             routing\n",
       "23697        travel_alert\n",
       "23698          definition\n",
       "23699                 gas\n",
       "\n",
       "[23700 rows x 1 columns]"
      ]
     },
     "execution_count": 13,
     "metadata": {},
     "output_type": "execute_result"
    }
   ],
   "source": [
    "labels_df = pd.DataFrame(labels)\n",
    "labels_df"
   ]
  },
  {
   "cell_type": "code",
   "execution_count": 14,
   "id": "abf0ed03",
   "metadata": {},
   "outputs": [
    {
     "data": {
      "text/plain": [
       "0    151\n",
       "dtype: int64"
      ]
     },
     "execution_count": 14,
     "metadata": {},
     "output_type": "execute_result"
    }
   ],
   "source": [
    "labels_df.nunique()"
   ]
  },
  {
   "cell_type": "markdown",
   "id": "a6fcfc92",
   "metadata": {},
   "source": [
    "### Classes of the intents"
   ]
  },
  {
   "cell_type": "code",
   "execution_count": 155,
   "id": "f30f3331",
   "metadata": {},
   "outputs": [
    {
     "data": {
      "image/png": "[encoded data removed]",
      "text/plain": [
       "<Figure size 1440x720 with 1 Axes>"
      ]
     },
     "metadata": {
      "needs_background": "light"
     },
     "output_type": "display_data"
    }
   ],
   "source": [
    "plt.figure(figsize=(20,10))\n",
    "sns.countplot(x=labels_df[0], data=labels_df)\n",
    "plt.xticks(rotation=90)\n",
    "plt.show()"
   ]
  },
  {
   "cell_type": "markdown",
   "id": "ac31faeb",
   "metadata": {},
   "source": [
    "# 3. Splitting the dataset"
   ]
  },
  {
   "cell_type": "code",
   "execution_count": 45,
   "id": "00485e59",
   "metadata": {},
   "outputs": [],
   "source": [
    "train_txt,test_txt,train_label,test_labels = train_test_split(text,labels,test_size = 0.3)"
   ]
  },
  {
   "cell_type": "markdown",
   "id": "79f92572",
   "metadata": {},
   "source": [
    "# 4.Preprocessing data after splitting to avoid data leakage\n",
    "\n",
    "- Tokenization\n",
    "- padding\n",
    "- Label Encoding\n",
    "- Word Embeddings (using GLOVE vectors)"
   ]
  },
  {
   "cell_type": "code",
   "execution_count": 46,
   "id": "ee3ba93c",
   "metadata": {},
   "outputs": [],
   "source": [
    "max_num_words = 40000\n",
    "classes = np.unique(labels)\n",
    "\n",
    "tokenizer = Tokenizer(num_words=max_num_words)\n",
    "tokenizer.fit_on_texts(train_txt)\n",
    "word_index = tokenizer.word_index"
   ]
  },
  {
   "cell_type": "code",
   "execution_count": 47,
   "id": "9f4de5cc",
   "metadata": {},
   "outputs": [],
   "source": [
    "ls=[]\n",
    "for c in train_txt:\n",
    "    ls.append(len(c.split()))\n",
    "maxLen=int(np.percentile(ls, 98))\n",
    "train_sequences = tokenizer.texts_to_sequences(train_txt)\n",
    "train_sequences = pad_sequences(train_sequences, maxlen=maxLen,padding='post')\n",
    "test_sequences = tokenizer.texts_to_sequences(test_txt)\n",
    "test_sequences = pad_sequences(test_sequences, maxlen=maxLen, padding='post')"
   ]
  },
  {
   "cell_type": "code",
   "execution_count": 48,
   "id": "ce8aa683",
   "metadata": {},
   "outputs": [],
   "source": [
    "label_encoder = LabelEncoder()\n",
    "integer_encoded = label_encoder.fit_transform(classes)\n",
    "\n",
    "onehot_encoder = OneHotEncoder(sparse=False)\n",
    "integer_encoded = integer_encoded.reshape(len(integer_encoded), 1)\n",
    "onehot_encoder.fit(integer_encoded)\n",
    "train_label_encoded = label_encoder.transform(train_label)\n",
    "train_label_encoded = train_label_encoded.reshape(len(train_label_encoded), 1)\n",
    "train_label = onehot_encoder.transform(train_label_encoded)\n",
    "test_labels_encoded = label_encoder.transform(test_labels)\n",
    "test_labels_encoded = test_labels_encoded.reshape(len(test_labels_encoded), 1)\n",
    "test_labels = onehot_encoder.transform(test_labels_encoded)"
   ]
  },
  {
   "cell_type": "code",
   "execution_count": 49,
   "id": "40f817af",
   "metadata": {},
   "outputs": [],
   "source": [
    "embeddings_index={}\n",
    "with open('glove.6B.100d.txt', encoding='utf8') as f:\n",
    "    for line in f:\n",
    "        values = line.split()\n",
    "        word = values[0]\n",
    "        coefs = np.asarray(values[1:], dtype='float32')\n",
    "        embeddings_index[word] = coefs"
   ]
  },
  {
   "cell_type": "code",
   "execution_count": 50,
   "id": "26f50408",
   "metadata": {},
   "outputs": [
    {
     "name": "stderr",
     "output_type": "stream",
     "text": [
      "C:\\Users\\snake\\anaconda3\\lib\\site-packages\\IPython\\core\\interactiveshell.py:3357: FutureWarning: arrays to stack must be passed as a \"sequence\" type such as list or tuple. Support for non-sequence iterables such as generators is deprecated as of NumPy 1.16 and will raise an error in the future.\n",
      "  if (await self.run_code(code, result,  async_=asy)):\n"
     ]
    }
   ],
   "source": [
    "all_embs = np.stack(embeddings_index.values())\n",
    "emb_mean,emb_std = all_embs.mean(), all_embs.std()\n",
    "num_words = min(max_num_words, len(word_index))+1\n",
    "embedding_dim=len(embeddings_index['the'])\n",
    "embedding_matrix = np.random.normal(emb_mean, emb_std, (num_words, embedding_dim))\n",
    "for word, i in word_index.items():\n",
    "    if i >= max_num_words:\n",
    "        break\n",
    "    embedding_vector = embeddings_index.get(word)\n",
    "    if embedding_vector is not None:\n",
    "        embedding_matrix[i] = embedding_vector"
   ]
  },
  {
   "cell_type": "markdown",
   "id": "0d456167",
   "metadata": {},
   "source": [
    "# 5. Model Bulidng"
   ]
  },
  {
   "cell_type": "code",
   "execution_count": 51,
   "id": "2c583bbc",
   "metadata": {},
   "outputs": [],
   "source": [
    "model = Sequential()\n",
    "model.add(Embedding(num_words, 100, trainable=False,input_length=train_sequences.shape[1], weights=[embedding_matrix]))\n",
    "model.add(Bidirectional(LSTM(256, return_sequences=True, recurrent_dropout=0.1, dropout=0.1), 'concat'))\n",
    "model.add(Dropout(0.3))\n",
    "model.add(LSTM(256, return_sequences=False, recurrent_dropout=0.1, dropout=0.1))\n",
    "model.add(Dropout(0.3))\n",
    "model.add(Dense(50, activation='relu'))\n",
    "model.add(Dropout(0.3))\n",
    "model.add(Dense(classes.shape[0], activation='softmax'))\n",
    "model.compile(loss='categorical_crossentropy', optimizer='adam', metrics=['acc'])"
   ]
  },
  {
   "cell_type": "code",
   "execution_count": 54,
   "id": "e8801f9d",
   "metadata": {},
   "outputs": [
    {
     "name": "stdout",
     "output_type": "stream",
     "text": [
      "Epoch 1/20\n",
      "260/260 [==============================] - 203s 782ms/step - loss: 1.9727 - acc: 0.4488 - val_loss: 1.3473 - val_acc: 0.6235\n",
      "Epoch 2/20\n",
      "260/260 [==============================] - 207s 795ms/step - loss: 1.4346 - acc: 0.5892 - val_loss: 1.0296 - val_acc: 0.7204\n",
      "Epoch 3/20\n",
      "260/260 [==============================] - 206s 792ms/step - loss: 1.1154 - acc: 0.6810 - val_loss: 0.8283 - val_acc: 0.7693\n",
      "Epoch 4/20\n",
      "260/260 [==============================] - 210s 807ms/step - loss: 0.8897 - acc: 0.7459 - val_loss: 0.7302 - val_acc: 0.8001\n",
      "Epoch 5/20\n",
      "260/260 [==============================] - 203s 779ms/step - loss: 0.7852 - acc: 0.7789 - val_loss: 0.6589 - val_acc: 0.8217\n",
      "Epoch 6/20\n",
      "260/260 [==============================] - 195s 748ms/step - loss: 0.6644 - acc: 0.8166 - val_loss: 0.6182 - val_acc: 0.8354\n",
      "Epoch 7/20\n",
      "260/260 [==============================] - 203s 781ms/step - loss: 0.5661 - acc: 0.8423 - val_loss: 0.6150 - val_acc: 0.8394\n",
      "Epoch 8/20\n",
      "260/260 [==============================] - 200s 768ms/step - loss: 0.4984 - acc: 0.8604 - val_loss: 0.5979 - val_acc: 0.8550\n",
      "Epoch 9/20\n",
      "260/260 [==============================] - 199s 763ms/step - loss: 0.4557 - acc: 0.8734 - val_loss: 0.5431 - val_acc: 0.8651\n",
      "Epoch 10/20\n",
      "260/260 [==============================] - 207s 796ms/step - loss: 0.4066 - acc: 0.8883 - val_loss: 0.5664 - val_acc: 0.8584\n",
      "Epoch 11/20\n",
      "260/260 [==============================] - 207s 796ms/step - loss: 0.3695 - acc: 0.8994 - val_loss: 0.5494 - val_acc: 0.8726\n",
      "Epoch 12/20\n",
      "260/260 [==============================] - 201s 774ms/step - loss: 0.3299 - acc: 0.9086 - val_loss: 0.5213 - val_acc: 0.8788\n",
      "Epoch 13/20\n",
      "260/260 [==============================] - 198s 761ms/step - loss: 0.3142 - acc: 0.9145 - val_loss: 0.5354 - val_acc: 0.8809\n",
      "Epoch 14/20\n",
      "260/260 [==============================] - 198s 763ms/step - loss: 0.2769 - acc: 0.9269 - val_loss: 0.5275 - val_acc: 0.8875\n",
      "Epoch 15/20\n",
      "260/260 [==============================] - 193s 742ms/step - loss: 0.2531 - acc: 0.9294 - val_loss: 0.5510 - val_acc: 0.8834\n",
      "Epoch 16/20\n",
      "260/260 [==============================] - 195s 750ms/step - loss: 0.2372 - acc: 0.9348 - val_loss: 0.5972 - val_acc: 0.8793\n",
      "Epoch 17/20\n",
      "260/260 [==============================] - 196s 755ms/step - loss: 0.2216 - acc: 0.9397 - val_loss: 0.5664 - val_acc: 0.8875\n",
      "Epoch 18/20\n",
      "260/260 [==============================] - 197s 759ms/step - loss: 0.2280 - acc: 0.9373 - val_loss: 0.5562 - val_acc: 0.8902\n",
      "Epoch 19/20\n",
      "260/260 [==============================] - 203s 782ms/step - loss: 0.1990 - acc: 0.9451 - val_loss: 0.5584 - val_acc: 0.8889\n",
      "Epoch 20/20\n",
      "260/260 [==============================] - 193s 744ms/step - loss: 0.1666 - acc: 0.9544 - val_loss: 0.5934 - val_acc: 0.8900\n",
      "Wall time: 1h 6min 53s\n"
     ]
    }
   ],
   "source": [
    "%%time\n",
    "history = model.fit(train_sequences, train_label, epochs = 20,\n",
    "          batch_size = 64, shuffle=True,\n",
    "          validation_data=(test_sequences, test_labels))"
   ]
  },
  {
   "cell_type": "code",
   "execution_count": 55,
   "id": "8e7e251b",
   "metadata": {},
   "outputs": [
    {
     "data": {
      "image/png": "[encoded data removed]",
      "text/plain": [
       "<Figure size 432x288 with 1 Axes>"
      ]
     },
     "metadata": {
      "needs_background": "light"
     },
     "output_type": "display_data"
    }
   ],
   "source": [
    "plt.plot(history.history['acc'])\n",
    "plt.plot(history.history['val_acc'])\n",
    "plt.title('Model Accuracy')\n",
    "plt.ylabel('Accuracy')\n",
    "plt.xlabel('Epoch')\n",
    "plt.legend(['Train', 'Validation'], loc='upper left')\n",
    "plt.show()"
   ]
  },
  {
   "cell_type": "code",
   "execution_count": 57,
   "id": "2a20a914",
   "metadata": {},
   "outputs": [
    {
     "data": {
      "image/png": "[encoded data removed]",
      "text/plain": [
       "<Figure size 432x288 with 1 Axes>"
      ]
     },
     "metadata": {
      "needs_background": "light"
     },
     "output_type": "display_data"
    }
   ],
   "source": [
    "plt.plot(history.history['loss'])\n",
    "plt.plot(history.history['val_loss'])\n",
    "plt.title('Model Loss')\n",
    "plt.ylabel('Loss')\n",
    "plt.xlabel('Epoch')\n",
    "plt.legend(['Train', 'Validation'], loc='upper right')\n",
    "plt.show()"
   ]
  },
  {
   "cell_type": "markdown",
   "id": "bdf90574",
   "metadata": {},
   "source": [
    "### Conclusion: Our model's validation accuracy and loss are good enough."
   ]
  },
  {
   "cell_type": "markdown",
   "id": "c259c3bf",
   "metadata": {},
   "source": [
    "# 6. Saving and loading model"
   ]
  },
  {
   "cell_type": "code",
   "execution_count": 59,
   "id": "79e741b3",
   "metadata": {},
   "outputs": [],
   "source": [
    "model.save('models/intents.h5')\n",
    "\n",
    "with open('utils/classes.pkl','wb') as file:\n",
    "    pickle.dump(classes,file)\n",
    "\n",
    "with open('utils/tokenizer.pkl','wb') as file:\n",
    "    pickle.dump(tokenizer,file)\n",
    "\n",
    "with open('utils/label_encoder.pkl','wb') as file:\n",
    "    pickle.dump(label_encoder,file)"
   ]
  },
  {
   "cell_type": "markdown",
   "id": "be0393f9",
   "metadata": {},
   "source": [
    "# 7. Creating class for automatic preprocessing and modeling of our new data"
   ]
  },
  {
   "cell_type": "code",
   "execution_count": 74,
   "id": "54db7169",
   "metadata": {},
   "outputs": [],
   "source": [
    "class IntentSentiClassifier:\n",
    "    def __init__(self,classes,model,tokenizer,label_encoder):\n",
    "        self.classes = classes\n",
    "        self.classifier = model\n",
    "        self.tokenizer = tokenizer\n",
    "        self.label_encoder = label_encoder\n",
    "\n",
    "    def get_intent(self,text):\n",
    "        self.text = [text]\n",
    "        self.test_keras = self.tokenizer.texts_to_sequences(self.text)\n",
    "        self.test_keras_sequence = pad_sequences(self.test_keras, maxlen=16, padding='post')\n",
    "        self.pred = self.classifier.predict(self.test_keras_sequence)\n",
    "        self.percentage = np.max(self.pred)\n",
    "        \n",
    "        \n",
    "        print(\"Intent: \",label_encoder.inverse_transform(np.argmax(self.pred,1))[0],\"with\",np.round(self.percentage*100,2),\"% accuracy\")\n",
    "        return"
   ]
  },
  {
   "cell_type": "markdown",
   "id": "7d58fc9e",
   "metadata": {},
   "source": [
    "### Loading save models"
   ]
  },
  {
   "cell_type": "code",
   "execution_count": 4,
   "id": "96c42638",
   "metadata": {},
   "outputs": [
    {
     "name": "stdout",
     "output_type": "stream",
     "text": [
      "WARNING:tensorflow:Layer lstm_2 will not use cuDNN kernel since it doesn't meet the cuDNN kernel criteria. It will use generic GPU kernel as fallback when running on GPU\n",
      "WARNING:tensorflow:Layer lstm_2 will not use cuDNN kernel since it doesn't meet the cuDNN kernel criteria. It will use generic GPU kernel as fallback when running on GPU\n",
      "WARNING:tensorflow:Layer lstm_2 will not use cuDNN kernel since it doesn't meet the cuDNN kernel criteria. It will use generic GPU kernel as fallback when running on GPU\n",
      "WARNING:tensorflow:Layer lstm_3 will not use cuDNN kernel since it doesn't meet the cuDNN kernel criteria. It will use generic GPU kernel as fallback when running on GPU\n"
     ]
    }
   ],
   "source": [
    "model = load_model('models/intents.h5')\n",
    "\n",
    "with open('utils/classes.pkl','rb') as file:\n",
    "    classes = pickle.load(file)\n",
    "\n",
    "with open('utils/tokenizer.pkl','rb') as file:\n",
    "    tokenizer = pickle.load(file)\n",
    "\n",
    "with open('utils/label_encoder.pkl','rb') as file:\n",
    "    label_encoder = pickle.load(file)"
   ]
  },
  {
   "cell_type": "markdown",
   "id": "ac436b41",
   "metadata": {},
   "source": [
    "# 8. Predicting Intent and sentiment of the query sentences "
   ]
  },
  {
   "cell_type": "code",
   "execution_count": 75,
   "id": "4da27759",
   "metadata": {},
   "outputs": [
    {
     "name": "stdout",
     "output_type": "stream",
     "text": [
      "Intent:  shopping_list with 58.24 % accuracy\n"
     ]
    }
   ],
   "source": [
    "import flair\n",
    "flair_sentiment = flair.models.TextClassifier.load('en-sentiment')\n",
    "model_obj = IntentSentiClassifier(classes,model,tokenizer,label_encoder)\n"
   ]
  },
  {
   "cell_type": "code",
   "execution_count": 78,
   "id": "2d5b393f",
   "metadata": {},
   "outputs": [
    {
     "name": "stdout",
     "output_type": "stream",
     "text": [
      "Intent:  shopping_list with 58.24 % accuracy\n",
      "Sentiment:  [POSITIVE (0.9951)]\n"
     ]
    }
   ],
   "source": [
    "sentence = \"I love to buy dresses from mall\"\n",
    "s = flair.data.Sentence(sentence)\n",
    "flair_sentiment.predict(s)\n",
    "total_sentiment = s.labels\n",
    "model_obj.get_intent(sentence1)\n",
    "print(\"Sentiment: \",total_sentiment)"
   ]
  },
  {
   "cell_type": "code",
   "execution_count": 82,
   "id": "387571ec",
   "metadata": {},
   "outputs": [
    {
     "name": "stdout",
     "output_type": "stream",
     "text": [
      "Intent:  weather with 99.44 % accuracy\n",
      "Sentiment:  [NEGATIVE (0.9999)]\n"
     ]
    }
   ],
   "source": [
    "sentence = \"I dont like rajisthan's hot temperature\"\n",
    "s = flair.data.Sentence(sentence)\n",
    "flair_sentiment.predict(s)\n",
    "total_sentiment = s.labels\n",
    "model_obj2.get_intent(sentence)\n",
    "print(\"Sentiment: \",total_sentiment)"
   ]
  },
  {
   "cell_type": "code",
   "execution_count": 83,
   "id": "2eba0c33",
   "metadata": {},
   "outputs": [
    {
     "name": "stdout",
     "output_type": "stream",
     "text": [
      "Intent:  travel_alert with 93.57 % accuracy\n",
      "Sentiment:  [POSITIVE (0.9544)]\n"
     ]
    }
   ],
   "source": [
    "sentence = \"I would like to go andaman and nicobar islands\"\n",
    "s = flair.data.Sentence(sentence)\n",
    "flair_sentiment.predict(s)\n",
    "total_sentiment = s.labels\n",
    "model_obj2.get_intent(sentence)\n",
    "print(\"Sentiment: \",total_sentiment)"
   ]
  },
  {
   "cell_type": "code",
   "execution_count": 85,
   "id": "a1bbf57c",
   "metadata": {},
   "outputs": [
    {
     "name": "stdout",
     "output_type": "stream",
     "text": [
      "Intent:  oos with 42.61 % accuracy\n",
      "Sentiment:  [NEGATIVE (0.9946)]\n"
     ]
    }
   ],
   "source": [
    "sentence = \"His sister is paralyzed after accident\"\n",
    "s = flair.data.Sentence(sentence)\n",
    "flair_sentiment.predict(s)\n",
    "total_sentiment = s.labels\n",
    "model_obj2.get_intent(sentence)\n",
    "print(\"Sentiment: \",total_sentiment)"
   ]
  },
  {
   "cell_type": "code",
   "execution_count": 88,
   "id": "fd33071b",
   "metadata": {},
   "outputs": [
    {
     "name": "stdout",
     "output_type": "stream",
     "text": [
      "Intent:  nutrition_info with 99.94 % accuracy\n",
      "Sentiment:  [NEGATIVE (0.9999)]\n"
     ]
    }
   ],
   "source": [
    "sentence = \"Too much cheese is not good for health\"\n",
    "s = flair.data.Sentence(sentence)\n",
    "flair_sentiment.predict(s)\n",
    "total_sentiment = s.labels\n",
    "model_obj2.get_intent(sentence)\n",
    "print(\"Sentiment: \",total_sentiment)"
   ]
  },
  {
   "cell_type": "code",
   "execution_count": 92,
   "id": "cf7fd0e5",
   "metadata": {},
   "outputs": [
    {
     "name": "stdout",
     "output_type": "stream",
     "text": [
      "Intent:  alarm with 98.54 % accuracy\n",
      "Sentiment:  [POSITIVE (0.6705)]\n"
     ]
    }
   ],
   "source": [
    "sentence = \"tommorow you have meeting at 9 am\"\n",
    "s = flair.data.Sentence(sentence)\n",
    "flair_sentiment.predict(s)\n",
    "total_sentiment = s.labels\n",
    "model_obj2.get_intent(sentence)\n",
    "print(\"Sentiment: \",total_sentiment)"
   ]
  },
  {
   "cell_type": "code",
   "execution_count": null,
   "id": "5df48f79",
   "metadata": {},
   "outputs": [],
   "source": []
  }
 ],
 "metadata": {
  "kernelspec": {
   "display_name": "Python 3",
   "language": "python",
   "name": "python3"
  },
  "language_info": {
   "codemirror_mode": {
    "name": "ipython",
    "version": 3
   },
   "file_extension": ".py",
   "mimetype": "text/x-python",
   "name": "python",
   "nbconvert_exporter": "python",
   "pygments_lexer": "ipython3",
   "version": "3.8.5"
  }
 },
 "nbformat": 4,
 "nbformat_minor": 5
}
